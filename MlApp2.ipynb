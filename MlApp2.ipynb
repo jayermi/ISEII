{
  "nbformat": 4,
  "nbformat_minor": 0,
  "metadata": {
    "colab": {
      "name": "MlApp2.ipynb",
      "provenance": []
    },
    "kernelspec": {
      "name": "python3",
      "display_name": "Python 3"
    },
    "language_info": {
      "name": "python"
    }
  },
  "cells": [
    {
      "cell_type": "code",
      "metadata": {
        "id": "lm8judQYSyOV"
      },
      "source": [
        "import numpy as np\n",
        "import pandas as pd\n",
        "import seaborn\n",
        "#sklearn imports\n",
        "from sklearn.decomposition import PCA #Principal Component Analysis\n",
        "from sklearn.manifold import TSNE #T-Distributed Stochastic Neighbor Embedding\n",
        "from sklearn.cluster import KMeans #K-Means Clustering\n",
        "from sklearn.preprocessing import StandardScaler #used for 'Feature Scaling'\n",
        "#plotly imports\n",
        "from plotly.offline import init_notebook_mode\n",
        "import plotly.graph_objs as go\n",
        "from plotly.offline import download_plotlyjs, init_notebook_mode, plot, iplot\n",
        "from sklearn.impute import SimpleImputer\n",
        "import matplotlib.pyplot as plt\n",
        "%config InlineBackend.figure_format='retina'\n",
        "from scipy.spatial.distance import cdist, pdist\n",
        "\n"
      ],
      "execution_count": 84,
      "outputs": []
    },
    {
      "cell_type": "code",
      "metadata": {
        "colab": {
          "resources": {
            "http://localhost:8080/nbextensions/google.colab/files.js": {
              "data": "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",
              "ok": true,
              "headers": [
                [
                  "content-type",
                  "application/javascript"
                ]
              ],
              "status": 200,
              "status_text": ""
            }
          },
          "base_uri": "https://localhost:8080/",
          "height": 72
        },
        "id": "29OlEJmLWxDR",
        "outputId": "a5e62744-c00f-4447-ebd6-80ef6f32428a"
      },
      "source": [
        "import io;\n",
        "import os;\n",
        "import re;\n",
        "from google.colab import files\n",
        "uploaded = files.upload()"
      ],
      "execution_count": 128,
      "outputs": [
        {
          "output_type": "display_data",
          "data": {
            "text/html": [
              "\n",
              "     <input type=\"file\" id=\"files-75f9e0b3-496c-4149-b038-613f4e28f022\" name=\"files[]\" multiple disabled\n",
              "        style=\"border:none\" />\n",
              "     <output id=\"result-75f9e0b3-496c-4149-b038-613f4e28f022\">\n",
              "      Upload widget is only available when the cell has been executed in the\n",
              "      current browser session. Please rerun this cell to enable.\n",
              "      </output>\n",
              "      <script src=\"/nbextensions/google.colab/files.js\"></script> "
            ],
            "text/plain": [
              "<IPython.core.display.HTML object>"
            ]
          },
          "metadata": {
            "tags": []
          }
        },
        {
          "output_type": "stream",
          "text": [
            "Saving 2009.csv to 2009 (8).csv\n"
          ],
          "name": "stdout"
        }
      ]
    },
    {
      "cell_type": "code",
      "metadata": {
        "colab": {
          "base_uri": "https://localhost:8080/",
          "height": 693
        },
        "id": "pfSw6hv24UB7",
        "outputId": "6be5e156-8708-443a-a9de-5f0896eb0448"
      },
      "source": [
        "stats1 = pd.read_csv(io.StringIO(uploaded['2009.csv'].decode('utf-8')))\n",
        "data = pd.DataFrame(stats1)\n",
        "data"
      ],
      "execution_count": 86,
      "outputs": [
        {
          "output_type": "execute_result",
          "data": {
            "text/html": [
              "<div>\n",
              "<style scoped>\n",
              "    .dataframe tbody tr th:only-of-type {\n",
              "        vertical-align: middle;\n",
              "    }\n",
              "\n",
              "    .dataframe tbody tr th {\n",
              "        vertical-align: top;\n",
              "    }\n",
              "\n",
              "    .dataframe thead th {\n",
              "        text-align: right;\n",
              "    }\n",
              "</style>\n",
              "<table border=\"1\" class=\"dataframe\">\n",
              "  <thead>\n",
              "    <tr style=\"text-align: right;\">\n",
              "      <th></th>\n",
              "      <th>Overall</th>\n",
              "      <th>Team</th>\n",
              "      <th>Player</th>\n",
              "      <th>Nat.</th>\n",
              "      <th>Pos</th>\n",
              "      <th>Age</th>\n",
              "      <th>To</th>\n",
              "      <th>Amateur Team</th>\n",
              "      <th>GP</th>\n",
              "      <th>G</th>\n",
              "      <th>A</th>\n",
              "      <th>PTS</th>\n",
              "      <th>+/-</th>\n",
              "      <th>PIM</th>\n",
              "      <th>GP.1</th>\n",
              "      <th>W</th>\n",
              "      <th>L</th>\n",
              "      <th>T/O</th>\n",
              "      <th>SV%</th>\n",
              "      <th>GAA</th>\n",
              "    </tr>\n",
              "  </thead>\n",
              "  <tbody>\n",
              "    <tr>\n",
              "      <th>0</th>\n",
              "      <td>1</td>\n",
              "      <td>New York Islanders</td>\n",
              "      <td>John Tavares\\tavarjo01</td>\n",
              "      <td>CA</td>\n",
              "      <td>C</td>\n",
              "      <td>18</td>\n",
              "      <td>2019.0</td>\n",
              "      <td>London (OHL)</td>\n",
              "      <td>679.0</td>\n",
              "      <td>279.0</td>\n",
              "      <td>354.0</td>\n",
              "      <td>633.0</td>\n",
              "      <td>-39.0</td>\n",
              "      <td>311.0</td>\n",
              "      <td>NaN</td>\n",
              "      <td>NaN</td>\n",
              "      <td>NaN</td>\n",
              "      <td>NaN</td>\n",
              "      <td>NaN</td>\n",
              "      <td>NaN</td>\n",
              "    </tr>\n",
              "    <tr>\n",
              "      <th>1</th>\n",
              "      <td>1</td>\n",
              "      <td>Tampa Bay Lightning</td>\n",
              "      <td>Victor Hedman\\hedmavi01</td>\n",
              "      <td>SE</td>\n",
              "      <td>D</td>\n",
              "      <td>18</td>\n",
              "      <td>2019.0</td>\n",
              "      <td>MoDo Ornskoldsvik ( )</td>\n",
              "      <td>634.0</td>\n",
              "      <td>84.0</td>\n",
              "      <td>284.0</td>\n",
              "      <td>368.0</td>\n",
              "      <td>63.0</td>\n",
              "      <td>491.0</td>\n",
              "      <td>NaN</td>\n",
              "      <td>NaN</td>\n",
              "      <td>NaN</td>\n",
              "      <td>NaN</td>\n",
              "      <td>NaN</td>\n",
              "      <td>NaN</td>\n",
              "    </tr>\n",
              "    <tr>\n",
              "      <th>2</th>\n",
              "      <td>1</td>\n",
              "      <td>Colorado Avalanche</td>\n",
              "      <td>Matt Duchene\\duchema01</td>\n",
              "      <td>CA</td>\n",
              "      <td>C</td>\n",
              "      <td>18</td>\n",
              "      <td>2019.0</td>\n",
              "      <td>Brampton (OHL)</td>\n",
              "      <td>662.0</td>\n",
              "      <td>202.0</td>\n",
              "      <td>283.0</td>\n",
              "      <td>485.0</td>\n",
              "      <td>-85.0</td>\n",
              "      <td>158.0</td>\n",
              "      <td>NaN</td>\n",
              "      <td>NaN</td>\n",
              "      <td>NaN</td>\n",
              "      <td>NaN</td>\n",
              "      <td>NaN</td>\n",
              "      <td>NaN</td>\n",
              "    </tr>\n",
              "    <tr>\n",
              "      <th>3</th>\n",
              "      <td>1</td>\n",
              "      <td>Atlanta Thrashers</td>\n",
              "      <td>Evander Kane\\kaneev01</td>\n",
              "      <td>CA</td>\n",
              "      <td>LW</td>\n",
              "      <td>18</td>\n",
              "      <td>2019.0</td>\n",
              "      <td>Vancouver (WCHL)</td>\n",
              "      <td>583.0</td>\n",
              "      <td>190.0</td>\n",
              "      <td>173.0</td>\n",
              "      <td>363.0</td>\n",
              "      <td>-48.0</td>\n",
              "      <td>696.0</td>\n",
              "      <td>NaN</td>\n",
              "      <td>NaN</td>\n",
              "      <td>NaN</td>\n",
              "      <td>NaN</td>\n",
              "      <td>NaN</td>\n",
              "      <td>NaN</td>\n",
              "    </tr>\n",
              "    <tr>\n",
              "      <th>4</th>\n",
              "      <td>1</td>\n",
              "      <td>Los Angeles Kings</td>\n",
              "      <td>Brayden Schenn\\schenbr01</td>\n",
              "      <td>CA</td>\n",
              "      <td>C</td>\n",
              "      <td>18</td>\n",
              "      <td>2019.0</td>\n",
              "      <td>Brandon (WHL)</td>\n",
              "      <td>524.0</td>\n",
              "      <td>140.0</td>\n",
              "      <td>185.0</td>\n",
              "      <td>325.0</td>\n",
              "      <td>-24.0</td>\n",
              "      <td>281.0</td>\n",
              "      <td>NaN</td>\n",
              "      <td>NaN</td>\n",
              "      <td>NaN</td>\n",
              "      <td>NaN</td>\n",
              "      <td>NaN</td>\n",
              "      <td>NaN</td>\n",
              "    </tr>\n",
              "    <tr>\n",
              "      <th>...</th>\n",
              "      <td>...</td>\n",
              "      <td>...</td>\n",
              "      <td>...</td>\n",
              "      <td>...</td>\n",
              "      <td>...</td>\n",
              "      <td>...</td>\n",
              "      <td>...</td>\n",
              "      <td>...</td>\n",
              "      <td>...</td>\n",
              "      <td>...</td>\n",
              "      <td>...</td>\n",
              "      <td>...</td>\n",
              "      <td>...</td>\n",
              "      <td>...</td>\n",
              "      <td>...</td>\n",
              "      <td>...</td>\n",
              "      <td>...</td>\n",
              "      <td>...</td>\n",
              "      <td>...</td>\n",
              "      <td>...</td>\n",
              "    </tr>\n",
              "    <tr>\n",
              "      <th>205</th>\n",
              "      <td>7</td>\n",
              "      <td>San Jose Sharks</td>\n",
              "      <td>Dominik Bielke\\bielkdo01</td>\n",
              "      <td>DE</td>\n",
              "      <td>D</td>\n",
              "      <td>18</td>\n",
              "      <td>NaN</td>\n",
              "      <td>Eisbaren Jrs. Berlin (German-3)</td>\n",
              "      <td>NaN</td>\n",
              "      <td>NaN</td>\n",
              "      <td>NaN</td>\n",
              "      <td>NaN</td>\n",
              "      <td>NaN</td>\n",
              "      <td>NaN</td>\n",
              "      <td>NaN</td>\n",
              "      <td>NaN</td>\n",
              "      <td>NaN</td>\n",
              "      <td>NaN</td>\n",
              "      <td>NaN</td>\n",
              "      <td>NaN</td>\n",
              "    </tr>\n",
              "    <tr>\n",
              "      <th>206</th>\n",
              "      <td>7</td>\n",
              "      <td>Carolina Hurricanes</td>\n",
              "      <td>Tommi Kivisto\\kivisto01</td>\n",
              "      <td>FI</td>\n",
              "      <td>D</td>\n",
              "      <td>18</td>\n",
              "      <td>NaN</td>\n",
              "      <td>Red Deer (WHL)</td>\n",
              "      <td>NaN</td>\n",
              "      <td>NaN</td>\n",
              "      <td>NaN</td>\n",
              "      <td>NaN</td>\n",
              "      <td>NaN</td>\n",
              "      <td>NaN</td>\n",
              "      <td>NaN</td>\n",
              "      <td>NaN</td>\n",
              "      <td>NaN</td>\n",
              "      <td>NaN</td>\n",
              "      <td>NaN</td>\n",
              "      <td>NaN</td>\n",
              "    </tr>\n",
              "    <tr>\n",
              "      <th>207</th>\n",
              "      <td>7</td>\n",
              "      <td>Chicago Blackhawks</td>\n",
              "      <td>David Gilbert\\gilbeda01</td>\n",
              "      <td>CA</td>\n",
              "      <td>C</td>\n",
              "      <td>18</td>\n",
              "      <td>NaN</td>\n",
              "      <td>Quebec (QMJHL)</td>\n",
              "      <td>NaN</td>\n",
              "      <td>NaN</td>\n",
              "      <td>NaN</td>\n",
              "      <td>NaN</td>\n",
              "      <td>NaN</td>\n",
              "      <td>NaN</td>\n",
              "      <td>NaN</td>\n",
              "      <td>NaN</td>\n",
              "      <td>NaN</td>\n",
              "      <td>NaN</td>\n",
              "      <td>NaN</td>\n",
              "      <td>NaN</td>\n",
              "    </tr>\n",
              "    <tr>\n",
              "      <th>208</th>\n",
              "      <td>7</td>\n",
              "      <td>Detroit Red Wings</td>\n",
              "      <td>Adam Almqvist\\almqvad01</td>\n",
              "      <td>SE</td>\n",
              "      <td>D</td>\n",
              "      <td>18</td>\n",
              "      <td>2014.0</td>\n",
              "      <td>HV 71 Jonkoping Jr. (Sweden-Jr.)</td>\n",
              "      <td>2.0</td>\n",
              "      <td>1.0</td>\n",
              "      <td>0.0</td>\n",
              "      <td>1.0</td>\n",
              "      <td>-1.0</td>\n",
              "      <td>0.0</td>\n",
              "      <td>NaN</td>\n",
              "      <td>NaN</td>\n",
              "      <td>NaN</td>\n",
              "      <td>NaN</td>\n",
              "      <td>NaN</td>\n",
              "      <td>NaN</td>\n",
              "    </tr>\n",
              "    <tr>\n",
              "      <th>209</th>\n",
              "      <td>7</td>\n",
              "      <td>Montreal Canadiens</td>\n",
              "      <td>Petteri Simila\\similpe01</td>\n",
              "      <td>FI</td>\n",
              "      <td>G</td>\n",
              "      <td>19</td>\n",
              "      <td>NaN</td>\n",
              "      <td>Karpat Oulu Jr. ( )</td>\n",
              "      <td>NaN</td>\n",
              "      <td>NaN</td>\n",
              "      <td>NaN</td>\n",
              "      <td>NaN</td>\n",
              "      <td>NaN</td>\n",
              "      <td>NaN</td>\n",
              "      <td>NaN</td>\n",
              "      <td>NaN</td>\n",
              "      <td>NaN</td>\n",
              "      <td>NaN</td>\n",
              "      <td>NaN</td>\n",
              "      <td>NaN</td>\n",
              "    </tr>\n",
              "  </tbody>\n",
              "</table>\n",
              "<p>210 rows × 20 columns</p>\n",
              "</div>"
            ],
            "text/plain": [
              "     Overall                 Team                    Player  ... T/O SV%  GAA\n",
              "0          1   New York Islanders    John Tavares\\tavarjo01  ... NaN NaN  NaN\n",
              "1          1  Tampa Bay Lightning   Victor Hedman\\hedmavi01  ... NaN NaN  NaN\n",
              "2          1   Colorado Avalanche    Matt Duchene\\duchema01  ... NaN NaN  NaN\n",
              "3          1    Atlanta Thrashers     Evander Kane\\kaneev01  ... NaN NaN  NaN\n",
              "4          1    Los Angeles Kings  Brayden Schenn\\schenbr01  ... NaN NaN  NaN\n",
              "..       ...                  ...                       ...  ...  ..  ..  ...\n",
              "205        7      San Jose Sharks  Dominik Bielke\\bielkdo01  ... NaN NaN  NaN\n",
              "206        7  Carolina Hurricanes   Tommi Kivisto\\kivisto01  ... NaN NaN  NaN\n",
              "207        7   Chicago Blackhawks   David Gilbert\\gilbeda01  ... NaN NaN  NaN\n",
              "208        7    Detroit Red Wings   Adam Almqvist\\almqvad01  ... NaN NaN  NaN\n",
              "209        7   Montreal Canadiens  Petteri Simila\\similpe01  ... NaN NaN  NaN\n",
              "\n",
              "[210 rows x 20 columns]"
            ]
          },
          "metadata": {
            "tags": []
          },
          "execution_count": 86
        }
      ]
    },
    {
      "cell_type": "code",
      "metadata": {
        "id": "q1kCBdcgGmho"
      },
      "source": [
        "# creating a dict file  \n",
        "team = {'New York Islanders': 1, 'Tampa Bay Lightning': 2, 'Colorado Avalanche': 3, 'Atlanta Thrashers': 4, 'Los Angeles Kings': 5, 'Phoenix Coyotes': 6,\n",
        "        'Toronto Maple Leafs': 7, 'Dallas Stars': 8, 'Ottawa Senators': 9, 'Edmonton Oilers': 10, 'Nashville Predators': 11, \n",
        "        'Buffalo Sabres': 12, 'Florida Panthers': 13, 'Anaheim Ducks': 14, 'Minnesota Wild': 15, 'St. Louis Blues': 16, 'Montreal Canadiens': 17,'New York Rangers': 18, \n",
        "        'New Jersey Devils': 19, 'Columbus Blue Jackets': 20, 'Vancouver Canucks': 21, 'Calgary Flames': 22, 'Washington Capitals': 23, 'Boston Bruins': 24, \n",
        "        'Carolina Hurricanes': 25, 'Chicago Blackhawks': 26, 'Pittsburgh Penguins': 27, 'Detroit Red Wings': 28, 'San Jose Sharks': 29, 'Philadelphia Flyers': 30} \n",
        "data.Team = [team[item] for item in data.Team] "
      ],
      "execution_count": 87,
      "outputs": []
    },
    {
      "cell_type": "code",
      "metadata": {
        "id": "pJlK4MVtXMf2"
      },
      "source": [
        "Pos = {'C': 1, 'D': 2, 'RW': 3, 'LW': 4, 'C/W': 5, 'G': 6, 'W': 7, 'C/LW': 8, 'C/RW': 9}\n",
        "data.Pos = [Pos[item] for item in data.Pos]"
      ],
      "execution_count": 88,
      "outputs": []
    },
    {
      "cell_type": "code",
      "metadata": {
        "id": "TKp3_KrIisVW"
      },
      "source": [
        ""
      ],
      "execution_count": null,
      "outputs": []
    },
    {
      "cell_type": "code",
      "metadata": {
        "id": "i71D2herRQHN"
      },
      "source": [
        "data.head()\n",
        "X = data.copy()"
      ],
      "execution_count": 89,
      "outputs": []
    },
    {
      "cell_type": "code",
      "metadata": {
        "id": "tAOJuyQaXR-z"
      },
      "source": [
        ""
      ],
      "execution_count": null,
      "outputs": []
    },
    {
      "cell_type": "code",
      "metadata": {
        "colab": {
          "base_uri": "https://localhost:8080/",
          "height": 334
        },
        "id": "7iPm1O67-MdY",
        "outputId": "c2bd2092-2154-483f-e8b9-fc8d8756c3d2"
      },
      "source": [
        "X.head()"
      ],
      "execution_count": 90,
      "outputs": [
        {
          "output_type": "execute_result",
          "data": {
            "text/html": [
              "<div>\n",
              "<style scoped>\n",
              "    .dataframe tbody tr th:only-of-type {\n",
              "        vertical-align: middle;\n",
              "    }\n",
              "\n",
              "    .dataframe tbody tr th {\n",
              "        vertical-align: top;\n",
              "    }\n",
              "\n",
              "    .dataframe thead th {\n",
              "        text-align: right;\n",
              "    }\n",
              "</style>\n",
              "<table border=\"1\" class=\"dataframe\">\n",
              "  <thead>\n",
              "    <tr style=\"text-align: right;\">\n",
              "      <th></th>\n",
              "      <th>Overall</th>\n",
              "      <th>Team</th>\n",
              "      <th>Player</th>\n",
              "      <th>Nat.</th>\n",
              "      <th>Pos</th>\n",
              "      <th>Age</th>\n",
              "      <th>To</th>\n",
              "      <th>Amateur Team</th>\n",
              "      <th>GP</th>\n",
              "      <th>G</th>\n",
              "      <th>A</th>\n",
              "      <th>PTS</th>\n",
              "      <th>+/-</th>\n",
              "      <th>PIM</th>\n",
              "      <th>GP.1</th>\n",
              "      <th>W</th>\n",
              "      <th>L</th>\n",
              "      <th>T/O</th>\n",
              "      <th>SV%</th>\n",
              "      <th>GAA</th>\n",
              "    </tr>\n",
              "  </thead>\n",
              "  <tbody>\n",
              "    <tr>\n",
              "      <th>0</th>\n",
              "      <td>1</td>\n",
              "      <td>1</td>\n",
              "      <td>John Tavares\\tavarjo01</td>\n",
              "      <td>CA</td>\n",
              "      <td>1</td>\n",
              "      <td>18</td>\n",
              "      <td>2019.0</td>\n",
              "      <td>London (OHL)</td>\n",
              "      <td>679.0</td>\n",
              "      <td>279.0</td>\n",
              "      <td>354.0</td>\n",
              "      <td>633.0</td>\n",
              "      <td>-39.0</td>\n",
              "      <td>311.0</td>\n",
              "      <td>NaN</td>\n",
              "      <td>NaN</td>\n",
              "      <td>NaN</td>\n",
              "      <td>NaN</td>\n",
              "      <td>NaN</td>\n",
              "      <td>NaN</td>\n",
              "    </tr>\n",
              "    <tr>\n",
              "      <th>1</th>\n",
              "      <td>1</td>\n",
              "      <td>2</td>\n",
              "      <td>Victor Hedman\\hedmavi01</td>\n",
              "      <td>SE</td>\n",
              "      <td>2</td>\n",
              "      <td>18</td>\n",
              "      <td>2019.0</td>\n",
              "      <td>MoDo Ornskoldsvik ( )</td>\n",
              "      <td>634.0</td>\n",
              "      <td>84.0</td>\n",
              "      <td>284.0</td>\n",
              "      <td>368.0</td>\n",
              "      <td>63.0</td>\n",
              "      <td>491.0</td>\n",
              "      <td>NaN</td>\n",
              "      <td>NaN</td>\n",
              "      <td>NaN</td>\n",
              "      <td>NaN</td>\n",
              "      <td>NaN</td>\n",
              "      <td>NaN</td>\n",
              "    </tr>\n",
              "    <tr>\n",
              "      <th>2</th>\n",
              "      <td>1</td>\n",
              "      <td>3</td>\n",
              "      <td>Matt Duchene\\duchema01</td>\n",
              "      <td>CA</td>\n",
              "      <td>1</td>\n",
              "      <td>18</td>\n",
              "      <td>2019.0</td>\n",
              "      <td>Brampton (OHL)</td>\n",
              "      <td>662.0</td>\n",
              "      <td>202.0</td>\n",
              "      <td>283.0</td>\n",
              "      <td>485.0</td>\n",
              "      <td>-85.0</td>\n",
              "      <td>158.0</td>\n",
              "      <td>NaN</td>\n",
              "      <td>NaN</td>\n",
              "      <td>NaN</td>\n",
              "      <td>NaN</td>\n",
              "      <td>NaN</td>\n",
              "      <td>NaN</td>\n",
              "    </tr>\n",
              "    <tr>\n",
              "      <th>3</th>\n",
              "      <td>1</td>\n",
              "      <td>4</td>\n",
              "      <td>Evander Kane\\kaneev01</td>\n",
              "      <td>CA</td>\n",
              "      <td>4</td>\n",
              "      <td>18</td>\n",
              "      <td>2019.0</td>\n",
              "      <td>Vancouver (WCHL)</td>\n",
              "      <td>583.0</td>\n",
              "      <td>190.0</td>\n",
              "      <td>173.0</td>\n",
              "      <td>363.0</td>\n",
              "      <td>-48.0</td>\n",
              "      <td>696.0</td>\n",
              "      <td>NaN</td>\n",
              "      <td>NaN</td>\n",
              "      <td>NaN</td>\n",
              "      <td>NaN</td>\n",
              "      <td>NaN</td>\n",
              "      <td>NaN</td>\n",
              "    </tr>\n",
              "    <tr>\n",
              "      <th>4</th>\n",
              "      <td>1</td>\n",
              "      <td>5</td>\n",
              "      <td>Brayden Schenn\\schenbr01</td>\n",
              "      <td>CA</td>\n",
              "      <td>1</td>\n",
              "      <td>18</td>\n",
              "      <td>2019.0</td>\n",
              "      <td>Brandon (WHL)</td>\n",
              "      <td>524.0</td>\n",
              "      <td>140.0</td>\n",
              "      <td>185.0</td>\n",
              "      <td>325.0</td>\n",
              "      <td>-24.0</td>\n",
              "      <td>281.0</td>\n",
              "      <td>NaN</td>\n",
              "      <td>NaN</td>\n",
              "      <td>NaN</td>\n",
              "      <td>NaN</td>\n",
              "      <td>NaN</td>\n",
              "      <td>NaN</td>\n",
              "    </tr>\n",
              "  </tbody>\n",
              "</table>\n",
              "</div>"
            ],
            "text/plain": [
              "   Overall  Team                    Player Nat.  Pos  ...   W   L T/O  SV%  GAA\n",
              "0        1     1    John Tavares\\tavarjo01   CA    1  ... NaN NaN NaN  NaN  NaN\n",
              "1        1     2   Victor Hedman\\hedmavi01   SE    2  ... NaN NaN NaN  NaN  NaN\n",
              "2        1     3    Matt Duchene\\duchema01   CA    1  ... NaN NaN NaN  NaN  NaN\n",
              "3        1     4     Evander Kane\\kaneev01   CA    4  ... NaN NaN NaN  NaN  NaN\n",
              "4        1     5  Brayden Schenn\\schenbr01   CA    1  ... NaN NaN NaN  NaN  NaN\n",
              "\n",
              "[5 rows x 20 columns]"
            ]
          },
          "metadata": {
            "tags": []
          },
          "execution_count": 90
        }
      ]
    },
    {
      "cell_type": "code",
      "metadata": {
        "id": "d7TAdKx_-TUc"
      },
      "source": [
        "X.drop([\"Player\", \"Nat.\", \"To\", \"Amateur Team\", \"+/-\"], axis=1, inplace=True)"
      ],
      "execution_count": 91,
      "outputs": []
    },
    {
      "cell_type": "code",
      "metadata": {
        "id": "rqh6P8NrXYIw"
      },
      "source": [
        "X = pd.get_dummies(X)"
      ],
      "execution_count": 92,
      "outputs": []
    },
    {
      "cell_type": "code",
      "metadata": {
        "id": "Ya7NEuzkjluz"
      },
      "source": [
        "N = X[[\"Overall\",\"Team\",\"Pos\",\"Age\",\"GP\",\"G\", \"A\", \"PTS\", \"PIM\"]]"
      ],
      "execution_count": 93,
      "outputs": []
    },
    {
      "cell_type": "code",
      "metadata": {
        "colab": {
          "base_uri": "https://localhost:8080/",
          "height": 197
        },
        "id": "RWQKShSdAEz-",
        "outputId": "24a0c5bf-f921-482a-eba0-98a0b77b7dca"
      },
      "source": [
        "N.head()"
      ],
      "execution_count": 94,
      "outputs": [
        {
          "output_type": "execute_result",
          "data": {
            "text/html": [
              "<div>\n",
              "<style scoped>\n",
              "    .dataframe tbody tr th:only-of-type {\n",
              "        vertical-align: middle;\n",
              "    }\n",
              "\n",
              "    .dataframe tbody tr th {\n",
              "        vertical-align: top;\n",
              "    }\n",
              "\n",
              "    .dataframe thead th {\n",
              "        text-align: right;\n",
              "    }\n",
              "</style>\n",
              "<table border=\"1\" class=\"dataframe\">\n",
              "  <thead>\n",
              "    <tr style=\"text-align: right;\">\n",
              "      <th></th>\n",
              "      <th>Overall</th>\n",
              "      <th>Team</th>\n",
              "      <th>Pos</th>\n",
              "      <th>Age</th>\n",
              "      <th>GP</th>\n",
              "      <th>G</th>\n",
              "      <th>A</th>\n",
              "      <th>PTS</th>\n",
              "      <th>PIM</th>\n",
              "    </tr>\n",
              "  </thead>\n",
              "  <tbody>\n",
              "    <tr>\n",
              "      <th>0</th>\n",
              "      <td>1</td>\n",
              "      <td>1</td>\n",
              "      <td>1</td>\n",
              "      <td>18</td>\n",
              "      <td>679.0</td>\n",
              "      <td>279.0</td>\n",
              "      <td>354.0</td>\n",
              "      <td>633.0</td>\n",
              "      <td>311.0</td>\n",
              "    </tr>\n",
              "    <tr>\n",
              "      <th>1</th>\n",
              "      <td>1</td>\n",
              "      <td>2</td>\n",
              "      <td>2</td>\n",
              "      <td>18</td>\n",
              "      <td>634.0</td>\n",
              "      <td>84.0</td>\n",
              "      <td>284.0</td>\n",
              "      <td>368.0</td>\n",
              "      <td>491.0</td>\n",
              "    </tr>\n",
              "    <tr>\n",
              "      <th>2</th>\n",
              "      <td>1</td>\n",
              "      <td>3</td>\n",
              "      <td>1</td>\n",
              "      <td>18</td>\n",
              "      <td>662.0</td>\n",
              "      <td>202.0</td>\n",
              "      <td>283.0</td>\n",
              "      <td>485.0</td>\n",
              "      <td>158.0</td>\n",
              "    </tr>\n",
              "    <tr>\n",
              "      <th>3</th>\n",
              "      <td>1</td>\n",
              "      <td>4</td>\n",
              "      <td>4</td>\n",
              "      <td>18</td>\n",
              "      <td>583.0</td>\n",
              "      <td>190.0</td>\n",
              "      <td>173.0</td>\n",
              "      <td>363.0</td>\n",
              "      <td>696.0</td>\n",
              "    </tr>\n",
              "    <tr>\n",
              "      <th>4</th>\n",
              "      <td>1</td>\n",
              "      <td>5</td>\n",
              "      <td>1</td>\n",
              "      <td>18</td>\n",
              "      <td>524.0</td>\n",
              "      <td>140.0</td>\n",
              "      <td>185.0</td>\n",
              "      <td>325.0</td>\n",
              "      <td>281.0</td>\n",
              "    </tr>\n",
              "  </tbody>\n",
              "</table>\n",
              "</div>"
            ],
            "text/plain": [
              "   Overall  Team  Pos  Age     GP      G      A    PTS    PIM\n",
              "0        1     1    1   18  679.0  279.0  354.0  633.0  311.0\n",
              "1        1     2    2   18  634.0   84.0  284.0  368.0  491.0\n",
              "2        1     3    1   18  662.0  202.0  283.0  485.0  158.0\n",
              "3        1     4    4   18  583.0  190.0  173.0  363.0  696.0\n",
              "4        1     5    1   18  524.0  140.0  185.0  325.0  281.0"
            ]
          },
          "metadata": {
            "tags": []
          },
          "execution_count": 94
        }
      ]
    },
    {
      "cell_type": "code",
      "metadata": {
        "colab": {
          "base_uri": "https://localhost:8080/",
          "height": 406
        },
        "id": "bpUCdiuMReHc",
        "outputId": "780b333c-fe93-4ce8-e0e7-d5414860af79"
      },
      "source": [
        "N.fillna(0)"
      ],
      "execution_count": 95,
      "outputs": [
        {
          "output_type": "execute_result",
          "data": {
            "text/html": [
              "<div>\n",
              "<style scoped>\n",
              "    .dataframe tbody tr th:only-of-type {\n",
              "        vertical-align: middle;\n",
              "    }\n",
              "\n",
              "    .dataframe tbody tr th {\n",
              "        vertical-align: top;\n",
              "    }\n",
              "\n",
              "    .dataframe thead th {\n",
              "        text-align: right;\n",
              "    }\n",
              "</style>\n",
              "<table border=\"1\" class=\"dataframe\">\n",
              "  <thead>\n",
              "    <tr style=\"text-align: right;\">\n",
              "      <th></th>\n",
              "      <th>Overall</th>\n",
              "      <th>Team</th>\n",
              "      <th>Pos</th>\n",
              "      <th>Age</th>\n",
              "      <th>GP</th>\n",
              "      <th>G</th>\n",
              "      <th>A</th>\n",
              "      <th>PTS</th>\n",
              "      <th>PIM</th>\n",
              "    </tr>\n",
              "  </thead>\n",
              "  <tbody>\n",
              "    <tr>\n",
              "      <th>0</th>\n",
              "      <td>1</td>\n",
              "      <td>1</td>\n",
              "      <td>1</td>\n",
              "      <td>18</td>\n",
              "      <td>679.0</td>\n",
              "      <td>279.0</td>\n",
              "      <td>354.0</td>\n",
              "      <td>633.0</td>\n",
              "      <td>311.0</td>\n",
              "    </tr>\n",
              "    <tr>\n",
              "      <th>1</th>\n",
              "      <td>1</td>\n",
              "      <td>2</td>\n",
              "      <td>2</td>\n",
              "      <td>18</td>\n",
              "      <td>634.0</td>\n",
              "      <td>84.0</td>\n",
              "      <td>284.0</td>\n",
              "      <td>368.0</td>\n",
              "      <td>491.0</td>\n",
              "    </tr>\n",
              "    <tr>\n",
              "      <th>2</th>\n",
              "      <td>1</td>\n",
              "      <td>3</td>\n",
              "      <td>1</td>\n",
              "      <td>18</td>\n",
              "      <td>662.0</td>\n",
              "      <td>202.0</td>\n",
              "      <td>283.0</td>\n",
              "      <td>485.0</td>\n",
              "      <td>158.0</td>\n",
              "    </tr>\n",
              "    <tr>\n",
              "      <th>3</th>\n",
              "      <td>1</td>\n",
              "      <td>4</td>\n",
              "      <td>4</td>\n",
              "      <td>18</td>\n",
              "      <td>583.0</td>\n",
              "      <td>190.0</td>\n",
              "      <td>173.0</td>\n",
              "      <td>363.0</td>\n",
              "      <td>696.0</td>\n",
              "    </tr>\n",
              "    <tr>\n",
              "      <th>4</th>\n",
              "      <td>1</td>\n",
              "      <td>5</td>\n",
              "      <td>1</td>\n",
              "      <td>18</td>\n",
              "      <td>524.0</td>\n",
              "      <td>140.0</td>\n",
              "      <td>185.0</td>\n",
              "      <td>325.0</td>\n",
              "      <td>281.0</td>\n",
              "    </tr>\n",
              "    <tr>\n",
              "      <th>...</th>\n",
              "      <td>...</td>\n",
              "      <td>...</td>\n",
              "      <td>...</td>\n",
              "      <td>...</td>\n",
              "      <td>...</td>\n",
              "      <td>...</td>\n",
              "      <td>...</td>\n",
              "      <td>...</td>\n",
              "      <td>...</td>\n",
              "    </tr>\n",
              "    <tr>\n",
              "      <th>205</th>\n",
              "      <td>7</td>\n",
              "      <td>29</td>\n",
              "      <td>2</td>\n",
              "      <td>18</td>\n",
              "      <td>0.0</td>\n",
              "      <td>0.0</td>\n",
              "      <td>0.0</td>\n",
              "      <td>0.0</td>\n",
              "      <td>0.0</td>\n",
              "    </tr>\n",
              "    <tr>\n",
              "      <th>206</th>\n",
              "      <td>7</td>\n",
              "      <td>25</td>\n",
              "      <td>2</td>\n",
              "      <td>18</td>\n",
              "      <td>0.0</td>\n",
              "      <td>0.0</td>\n",
              "      <td>0.0</td>\n",
              "      <td>0.0</td>\n",
              "      <td>0.0</td>\n",
              "    </tr>\n",
              "    <tr>\n",
              "      <th>207</th>\n",
              "      <td>7</td>\n",
              "      <td>26</td>\n",
              "      <td>1</td>\n",
              "      <td>18</td>\n",
              "      <td>0.0</td>\n",
              "      <td>0.0</td>\n",
              "      <td>0.0</td>\n",
              "      <td>0.0</td>\n",
              "      <td>0.0</td>\n",
              "    </tr>\n",
              "    <tr>\n",
              "      <th>208</th>\n",
              "      <td>7</td>\n",
              "      <td>28</td>\n",
              "      <td>2</td>\n",
              "      <td>18</td>\n",
              "      <td>2.0</td>\n",
              "      <td>1.0</td>\n",
              "      <td>0.0</td>\n",
              "      <td>1.0</td>\n",
              "      <td>0.0</td>\n",
              "    </tr>\n",
              "    <tr>\n",
              "      <th>209</th>\n",
              "      <td>7</td>\n",
              "      <td>17</td>\n",
              "      <td>6</td>\n",
              "      <td>19</td>\n",
              "      <td>0.0</td>\n",
              "      <td>0.0</td>\n",
              "      <td>0.0</td>\n",
              "      <td>0.0</td>\n",
              "      <td>0.0</td>\n",
              "    </tr>\n",
              "  </tbody>\n",
              "</table>\n",
              "<p>210 rows × 9 columns</p>\n",
              "</div>"
            ],
            "text/plain": [
              "     Overall  Team  Pos  Age     GP      G      A    PTS    PIM\n",
              "0          1     1    1   18  679.0  279.0  354.0  633.0  311.0\n",
              "1          1     2    2   18  634.0   84.0  284.0  368.0  491.0\n",
              "2          1     3    1   18  662.0  202.0  283.0  485.0  158.0\n",
              "3          1     4    4   18  583.0  190.0  173.0  363.0  696.0\n",
              "4          1     5    1   18  524.0  140.0  185.0  325.0  281.0\n",
              "..       ...   ...  ...  ...    ...    ...    ...    ...    ...\n",
              "205        7    29    2   18    0.0    0.0    0.0    0.0    0.0\n",
              "206        7    25    2   18    0.0    0.0    0.0    0.0    0.0\n",
              "207        7    26    1   18    0.0    0.0    0.0    0.0    0.0\n",
              "208        7    28    2   18    2.0    1.0    0.0    1.0    0.0\n",
              "209        7    17    6   19    0.0    0.0    0.0    0.0    0.0\n",
              "\n",
              "[210 rows x 9 columns]"
            ]
          },
          "metadata": {
            "tags": []
          },
          "execution_count": 95
        }
      ]
    },
    {
      "cell_type": "code",
      "metadata": {
        "id": "iwRF3LFJXm_T"
      },
      "source": [
        ""
      ],
      "execution_count": null,
      "outputs": []
    },
    {
      "cell_type": "code",
      "metadata": {
        "colab": {
          "base_uri": "https://localhost:8080/"
        },
        "id": "UWALy8wiXhQh",
        "outputId": "a9d8a34b-d6e5-4655-c678-fcad2fe688bc"
      },
      "source": [
        "with pd.option_context('display.max_rows', None, 'display.max_columns', None): \n",
        "    print(N)"
      ],
      "execution_count": 96,
      "outputs": [
        {
          "output_type": "stream",
          "text": [
            "     Overall  Team  Pos  Age     GP      G      A    PTS    PIM\n",
            "0          1     1    1   18  679.0  279.0  354.0  633.0  311.0\n",
            "1          1     2    2   18  634.0   84.0  284.0  368.0  491.0\n",
            "2          1     3    1   18  662.0  202.0  283.0  485.0  158.0\n",
            "3          1     4    4   18  583.0  190.0  173.0  363.0  696.0\n",
            "4          1     5    1   18  524.0  140.0  185.0  325.0  281.0\n",
            "5          1     6    2   18  585.0  102.0  193.0  295.0  370.0\n",
            "6          1     7    1   18  498.0  146.0  172.0  318.0  348.0\n",
            "7          1     8    3   18    1.0    0.0    0.0    0.0    2.0\n",
            "8          1     9    2   18  249.0   15.0   31.0   46.0  174.0\n",
            "9          1    10    4   18  395.0   51.0   54.0  105.0   72.0\n",
            "10         1    11    2   18  406.0   55.0  124.0  179.0  142.0\n",
            "11         1     1    2   18  313.0   12.0   70.0   82.0  126.0\n",
            "12         1    12    3   18  392.0   52.0   65.0  117.0  619.0\n",
            "13         1    13    2   18  572.0   33.0  122.0  155.0  350.0\n",
            "14         1    14    1   18  266.0   36.0   49.0   85.0  112.0\n",
            "15         1    15    2   18  586.0   56.0  202.0  258.0  107.0\n",
            "16         1    16    2   18  113.0    4.0   21.0   25.0   30.0\n",
            "17         1    17    1   18   50.0    5.0    5.0   10.0   32.0\n",
            "18         1    18    1   18  391.0  109.0  117.0  226.0  334.0\n",
            "19         1    19    1   18  315.0   20.0   44.0   64.0   84.0\n",
            "20         1    20    2   18  457.0   32.0   68.0  100.0  190.0\n",
            "21         1    21    1   18  165.0   18.0   24.0   42.0   14.0\n",
            "22         1    22    2   18   93.0    2.0   12.0   14.0   38.0\n",
            "23         1    23    5   18  537.0  108.0  198.0  306.0   80.0\n",
            "24         1    24    3   18  157.0   12.0   16.0   28.0   78.0\n",
            "25         1    14    3   18  429.0  130.0  124.0  254.0  215.0\n",
            "26         1    25    1   18    NaN    NaN    NaN    NaN    NaN\n",
            "27         1    26    2   18  124.0    5.0   17.0   22.0   36.0\n",
            "28         1     2    3   18   54.0    0.0    3.0    3.0   32.0\n",
            "29         1    27    2   18  193.0    6.0   37.0   43.0  150.0\n",
            "30         2     1    6   21    4.0    0.0    0.0    0.0    0.0\n",
            "31         2    28    1   18   77.0    7.0    5.0   12.0   29.0\n",
            "32         2     3    1   18  660.0  157.0  276.0  433.0   90.0\n",
            "33         2     4    4   18   12.0    1.0    0.0    1.0    4.0\n",
            "34         2     5    4   18  543.0   44.0   51.0   95.0  692.0\n",
            "35         2     6    1   18   23.0    2.0    1.0    3.0   21.0\n",
            "36         2    14    2   18    9.0    0.0    1.0    1.0    6.0\n",
            "37         2     8    3   18  384.0   62.0   65.0  127.0  222.0\n",
            "38         2     9    4   18  425.0   96.0  120.0  216.0  126.0\n",
            "39         2    10    1   18  215.0   10.0   25.0   35.0   56.0\n",
            "40         2    11    3   18    NaN    NaN    NaN    NaN    NaN\n",
            "41         2    11    2   18    NaN    NaN    NaN    NaN    NaN\n",
            "42         2    29    2   18    NaN    NaN    NaN    NaN    NaN\n",
            "43         2    13    1   18   94.0    9.0   17.0   26.0   28.0\n",
            "44         2     4    4   18   82.0   10.0   12.0   22.0   69.0\n",
            "45         2     9    6   18  224.0    0.0    3.0    3.0   22.0\n",
            "46         2    18    1   18    NaN    NaN    NaN    NaN    NaN\n",
            "47         2    16    2   18    NaN    NaN    NaN    NaN    NaN\n",
            "48         2     3    2   18   84.0    8.0   16.0   24.0   16.0\n",
            "49         2     7    3   18    NaN    NaN    NaN    NaN    NaN\n",
            "50         2    25    2   18  251.0    7.0   48.0   55.0   66.0\n",
            "51         2     2    3   18  342.0   61.0   66.0  127.0  178.0\n",
            "52         2    21    3   18    3.0    0.0    1.0    1.0    0.0\n",
            "53         2    19    2   18  189.0   14.0   41.0   55.0   92.0\n",
            "54         2    23    2   18  374.0   30.0   95.0  125.0  138.0\n",
            "55         2    20    1   18    NaN    NaN    NaN    NaN    NaN\n",
            "56         2    29    2   18    NaN    NaN    NaN    NaN    NaN\n",
            "57         2     7    2   18    1.0    0.0    0.0    0.0    0.0\n",
            "58         2    26    1   18  228.0   60.0   41.0  101.0   77.0\n",
            "59         2    28    1   18  436.0  122.0  114.0  236.0  148.0\n",
            "60         3    27    2   18   13.0    0.0    0.0    0.0    2.0\n",
            "61         3     1    6   19  111.0    0.0    2.0    2.0    6.0\n",
            "62         3    27    7   18   16.0    1.0    2.0    3.0    2.0\n",
            "63         3     3    2   18  416.0   61.0  192.0  253.0  131.0\n",
            "64         3    17    1   18    1.0    0.0    0.0    0.0    0.0\n",
            "65         3    12    2   18  323.0   12.0   53.0   65.0  273.0\n",
            "66         3    13    3   18    NaN    NaN    NaN    NaN    NaN\n",
            "67         3     7    4   18    2.0    0.0    0.0    0.0    0.0\n",
            "68         3     8    3   18  441.0  100.0  152.0  252.0  116.0\n",
            "69         3    11    3   18   92.0   11.0   12.0   23.0   32.0\n",
            "70         3    10    2   18    NaN    NaN    NaN    NaN    NaN\n",
            "71         3    11    1   18  113.0    4.0   13.0   17.0  130.0\n",
            "72         3    19    2   18   34.0    3.0    1.0    4.0   28.0\n",
            "73         3    22    4   18    NaN    NaN    NaN    NaN    NaN\n",
            "74         3    28    3   18  128.0   17.0   31.0   48.0   18.0\n",
            "75         3    14    6   18    NaN    NaN    NaN    NaN    NaN\n",
            "76         3    15    6   19   26.0    0.0    0.0    0.0    0.0\n",
            "77         3    16    3   20    NaN    NaN    NaN    NaN    NaN\n",
            "78         3    17    2   18    NaN    NaN    NaN    NaN    NaN\n",
            "79         3    18    1   18    1.0    0.0    0.0    0.0    0.0\n",
            "80         3    30    6   18    NaN    NaN    NaN    NaN    NaN\n",
            "81         3    10    3   18    NaN    NaN    NaN    NaN    NaN\n",
            "82         3    21    2   19  269.0   26.0   44.0   70.0  163.0\n",
            "83         3     5    2   18  272.0   22.0   22.0   44.0  241.0\n",
            "84         3    23    1   18  465.0   79.0  106.0  185.0  210.0\n",
            "85         3    24    2   18    NaN    NaN    NaN    NaN    NaN\n",
            "86         3    30    2   18    NaN    NaN    NaN    NaN    NaN\n",
            "87         3    25    4   18    NaN    NaN    NaN    NaN    NaN\n",
            "88         3    26    8   18    NaN    NaN    NaN    NaN    NaN\n",
            "89         3    28    2   18    NaN    NaN    NaN    NaN    NaN\n",
            "90         4     6    6   18    NaN    NaN    NaN    NaN    NaN\n",
            "91         4     1    1   18  420.0   47.0   82.0  129.0  168.0\n",
            "92         4     2    4   18    NaN    NaN    NaN    NaN    NaN\n",
            "93         4    20    2   18  416.0   33.0   95.0  128.0  238.0\n",
            "94         4     5    6   18   34.0    0.0    0.0    0.0    0.0\n",
            "95         4     5    3   18  138.0   14.0   30.0   44.0   24.0\n",
            "96         4     6    3   18   47.0    4.0    3.0    7.0   23.0\n",
            "97         4    11    1   20  526.0  127.0  139.0  266.0  214.0\n",
            "98         4    10    2   20    NaN    NaN    NaN    NaN    NaN\n",
            "99         4     9    2   19  164.0   16.0   24.0   40.0   92.0\n",
            "100        4    10    4   18    NaN    NaN    NaN    NaN    NaN\n",
            "101        4    11    2   19  400.0   31.0   96.0  127.0  193.0\n",
            "102        4    15    4   18    1.0    0.0    0.0    0.0    0.0\n",
            "103        4    12    4   18  433.0   58.0   83.0  141.0  413.0\n",
            "104        4     6    2   18    NaN    NaN    NaN    NaN    NaN\n",
            "105        4    14    2   18  344.0   36.0  122.0  158.0  150.0\n",
            "106        4    13    4   18   34.0    0.0    0.0    0.0   24.0\n",
            "107        4    16    3   19    NaN    NaN    NaN    NaN    NaN\n",
            "108        4    17    3   18    NaN    NaN    NaN    NaN    NaN\n",
            "109        4    11    8   18    NaN    NaN    NaN    NaN    NaN\n",
            "110        4    22    3   18    NaN    NaN    NaN    NaN    NaN\n",
            "111        4    24    4   20   21.0    2.0    2.0    4.0   36.0\n",
            "112        4    21    2   18    NaN    NaN    NaN    NaN    NaN\n",
            "113        4    19    2   18   50.0    1.0    3.0    4.0   50.0\n",
            "114        4    23    2   18    9.0    0.0    3.0    3.0    5.0\n",
            "115        4    15    3   19    NaN    NaN    NaN    NaN    NaN\n",
            "116        4     4    6   18    NaN    NaN    NaN    NaN    NaN\n",
            "117        4    26    1   18  110.0    5.0   11.0   16.0   47.0\n",
            "118        4     4    2   18  237.0    9.0   38.0   47.0  154.0\n",
            "119        5    27    3   20    NaN    NaN    NaN    NaN    NaN\n",
            "120        5     1    2   19    1.0    0.0    0.0    0.0    0.0\n",
            "121        5    27    2   18    NaN    NaN    NaN    NaN    NaN\n",
            "122        5     3    6   20    NaN    NaN    NaN    NaN    NaN\n",
            "123        5     4    2   18    NaN    NaN    NaN    NaN    NaN\n",
            "124        5     5    2   20    NaN    NaN    NaN    NaN    NaN\n",
            "125        5    18    1   18   84.0    6.0   13.0   19.0   16.0\n",
            "126        5     7    2   19    NaN    NaN    NaN    NaN    NaN\n",
            "127        5     8    1   18   95.0    7.0   10.0   17.0   12.0\n",
            "128        5     9    8   19  350.0  111.0  125.0  236.0  121.0\n",
            "129        5    25    3   20    NaN    NaN    NaN    NaN    NaN\n",
            "130        5    11    4   18  316.0   36.0   54.0   90.0   60.0\n",
            "131        5    10    6   18    NaN    NaN    NaN    NaN    NaN\n",
            "132        5    12    2   18    NaN    NaN    NaN    NaN    NaN\n",
            "133        5    13    1   19   31.0    3.0    5.0    8.0    4.0\n",
            "134        5    14    1   19    NaN    NaN    NaN    NaN    NaN\n",
            "135        5    20    2   18    NaN    NaN    NaN    NaN    NaN\n",
            "136        5    13    1   19    4.0    1.0    0.0    1.0    0.0\n",
            "137        5    17    1   18   87.0    4.0    5.0    9.0   48.0\n",
            "138        5    18    6   18    NaN    NaN    NaN    NaN    NaN\n",
            "139        5    22    4   18    NaN    NaN    NaN    NaN    NaN\n",
            "140        5    30    6   20    NaN    NaN    NaN    NaN    NaN\n",
            "141        5    21    2   18    NaN    NaN    NaN    NaN    NaN\n",
            "142        5    19    4   19    NaN    NaN    NaN    NaN    NaN\n",
            "143        5    23    2   18    NaN    NaN    NaN    NaN    NaN\n",
            "144        5     9    4   18    NaN    NaN    NaN    NaN    NaN\n",
            "145        5    29    1   18   50.0    5.0    5.0   10.0   18.0\n",
            "146        5     2    6   18    NaN    NaN    NaN    NaN    NaN\n",
            "147        5    26    1   19  456.0   36.0   77.0  113.0  214.0\n",
            "148        5    28    2   18  138.0    6.0   25.0   31.0   48.0\n",
            "149        6    27    1   18    NaN    NaN    NaN    NaN    NaN\n",
            "150        6     1    1   19  351.0  126.0   86.0  212.0  213.0\n",
            "151        6    30    1   19    NaN    NaN    NaN    NaN    NaN\n",
            "152        6     3    6   18    NaN    NaN    NaN    NaN    NaN\n",
            "153        6     4    1   18    NaN    NaN    NaN    NaN    NaN\n",
            "154        6     5    8   19    NaN    NaN    NaN    NaN    NaN\n",
            "155        6     6    4   18    NaN    NaN    NaN    NaN    NaN\n",
            "156        6     7    3   18   31.0    1.0    2.0    3.0    2.0\n",
            "157        6     8    4   18   99.0   10.0   13.0   23.0  131.0\n",
            "158        6     9    4   20    NaN    NaN    NaN    NaN    NaN\n",
            "159        6    15    6   19  134.0    0.0    2.0    2.0    6.0\n",
            "160        6     2    6   19    NaN    NaN    NaN    NaN    NaN\n",
            "161        6    15    3   18    NaN    NaN    NaN    NaN    NaN\n",
            "162        6    12    6   19    2.0    0.0    1.0    1.0    0.0\n",
            "163        6    13    1   20   24.0    1.0    0.0    1.0   12.0\n",
            "164        6    14    2   18    NaN    NaN    NaN    NaN    NaN\n",
            "165        6    20    2   19    NaN    NaN    NaN    NaN    NaN\n",
            "166        6    16    2   18    NaN    NaN    NaN    NaN    NaN\n",
            "167        6    17    1   18    NaN    NaN    NaN    NaN    NaN\n",
            "168        6    18    2   18    NaN    NaN    NaN    NaN    NaN\n",
            "169        6    22    6   18   37.0    0.0    2.0    2.0    2.0\n",
            "170        6    30    4   19   31.0    5.0    5.0   10.0    4.0\n",
            "171        6    21    6   19    NaN    NaN    NaN    NaN    NaN\n",
            "172        6    19    4   19    NaN    NaN    NaN    NaN    NaN\n",
            "173        6    23    3   18    1.0    0.0    0.0    0.0    0.0\n",
            "174        6    24    3   18   27.0    6.0    0.0    6.0   47.0\n",
            "175        6    26    1   18    NaN    NaN    NaN    NaN    NaN\n",
            "176        6    25    2   18    6.0    0.0    0.0    0.0    4.0\n",
            "177        6     5    3   19   20.0    2.0    2.0    4.0    6.0\n",
            "178        6    28    3   18    5.0    0.0    0.0    0.0    0.0\n",
            "179        7    27    2   20    NaN    NaN    NaN    NaN    NaN\n",
            "180        7    15    4   18  351.0   72.0   74.0  146.0  158.0\n",
            "181        7     2    2   18    NaN    NaN    NaN    NaN    NaN\n",
            "182        7     3    2   18    NaN    NaN    NaN    NaN    NaN\n",
            "183        7     4    4   18    NaN    NaN    NaN    NaN    NaN\n",
            "184        7     5    1   20  361.0   24.0   26.0   50.0  333.0\n",
            "185        7    21    4   18    NaN    NaN    NaN    NaN    NaN\n",
            "186        7     7    2   18    NaN    NaN    NaN    NaN    NaN\n",
            "187        7    29    1   19    NaN    NaN    NaN    NaN    NaN\n",
            "188        7     9    4   19    NaN    NaN    NaN    NaN    NaN\n",
            "189        7     9    2   20    NaN    NaN    NaN    NaN    NaN\n",
            "190        7    11    1   18    NaN    NaN    NaN    NaN    NaN\n",
            "191        7    15    1   18    NaN    NaN    NaN    NaN    NaN\n",
            "192        7    12    3   20    NaN    NaN    NaN    NaN    NaN\n",
            "193        7    26    2   18    NaN    NaN    NaN    NaN    NaN\n",
            "194        7    30    2   20   16.0    2.0    1.0    3.0   44.0\n",
            "195        7    20    3   20    NaN    NaN    NaN    NaN    NaN\n",
            "196        7     5    1   19  140.0   10.0   18.0   28.0   57.0\n",
            "197        7    17    1   19    NaN    NaN    NaN    NaN    NaN\n",
            "198        7    18    2   20    NaN    NaN    NaN    NaN    NaN\n",
            "199        7    22    1   19    NaN    NaN    NaN    NaN    NaN\n",
            "200        7    16    1   18    NaN    NaN    NaN    NaN    NaN\n",
            "201        7     4    4   19    NaN    NaN    NaN    NaN    NaN\n",
            "202        7    19    2   18    NaN    NaN    NaN    NaN    NaN\n",
            "203        7    23    4   18    NaN    NaN    NaN    NaN    NaN\n",
            "204        7    24    1   18    2.0    0.0    0.0    0.0    0.0\n",
            "205        7    29    2   18    NaN    NaN    NaN    NaN    NaN\n",
            "206        7    25    2   18    NaN    NaN    NaN    NaN    NaN\n",
            "207        7    26    1   18    NaN    NaN    NaN    NaN    NaN\n",
            "208        7    28    2   18    2.0    1.0    0.0    1.0    0.0\n",
            "209        7    17    6   19    NaN    NaN    NaN    NaN    NaN\n"
          ],
          "name": "stdout"
        }
      ]
    },
    {
      "cell_type": "code",
      "metadata": {
        "id": "jb9KarLnXoe8"
      },
      "source": [
        ""
      ],
      "execution_count": null,
      "outputs": []
    },
    {
      "cell_type": "code",
      "metadata": {
        "id": "7P-lH8-4XvIT"
      },
      "source": [
        ""
      ],
      "execution_count": 14,
      "outputs": []
    },
    {
      "cell_type": "code",
      "metadata": {
        "colab": {
          "base_uri": "https://localhost:8080/"
        },
        "id": "QyKZqoIDYhAp",
        "outputId": "6794ddf9-18b5-4cdd-e12d-fb68bcce6d72"
      },
      "source": [
        "N = N.apply (pd.to_numeric, errors='coerce')\n",
        "N = N.replace(np.nan,0)\n",
        "\n",
        "print (N)"
      ],
      "execution_count": 106,
      "outputs": [
        {
          "output_type": "stream",
          "text": [
            "     Overall  Team  Pos  Age     GP      G      A    PTS    PIM\n",
            "0          1     1    1   18  679.0  279.0  354.0  633.0  311.0\n",
            "1          1     2    2   18  634.0   84.0  284.0  368.0  491.0\n",
            "2          1     3    1   18  662.0  202.0  283.0  485.0  158.0\n",
            "3          1     4    4   18  583.0  190.0  173.0  363.0  696.0\n",
            "4          1     5    1   18  524.0  140.0  185.0  325.0  281.0\n",
            "..       ...   ...  ...  ...    ...    ...    ...    ...    ...\n",
            "205        7    29    2   18    0.0    0.0    0.0    0.0    0.0\n",
            "206        7    25    2   18    0.0    0.0    0.0    0.0    0.0\n",
            "207        7    26    1   18    0.0    0.0    0.0    0.0    0.0\n",
            "208        7    28    2   18    2.0    1.0    0.0    1.0    0.0\n",
            "209        7    17    6   19    0.0    0.0    0.0    0.0    0.0\n",
            "\n",
            "[210 rows x 9 columns]\n"
          ],
          "name": "stdout"
        }
      ]
    },
    {
      "cell_type": "code",
      "metadata": {
        "id": "EJtUG-obTiJe"
      },
      "source": [
        "N = pd.get_dummies(N)"
      ],
      "execution_count": 107,
      "outputs": []
    },
    {
      "cell_type": "code",
      "metadata": {
        "colab": {
          "base_uri": "https://localhost:8080/",
          "height": 197
        },
        "id": "5IOMMcaDTozx",
        "outputId": "946099f9-6f8f-487c-8b49-f68e739135f3"
      },
      "source": [
        "N.head()"
      ],
      "execution_count": 108,
      "outputs": [
        {
          "output_type": "execute_result",
          "data": {
            "text/html": [
              "<div>\n",
              "<style scoped>\n",
              "    .dataframe tbody tr th:only-of-type {\n",
              "        vertical-align: middle;\n",
              "    }\n",
              "\n",
              "    .dataframe tbody tr th {\n",
              "        vertical-align: top;\n",
              "    }\n",
              "\n",
              "    .dataframe thead th {\n",
              "        text-align: right;\n",
              "    }\n",
              "</style>\n",
              "<table border=\"1\" class=\"dataframe\">\n",
              "  <thead>\n",
              "    <tr style=\"text-align: right;\">\n",
              "      <th></th>\n",
              "      <th>Overall</th>\n",
              "      <th>Team</th>\n",
              "      <th>Pos</th>\n",
              "      <th>Age</th>\n",
              "      <th>GP</th>\n",
              "      <th>G</th>\n",
              "      <th>A</th>\n",
              "      <th>PTS</th>\n",
              "      <th>PIM</th>\n",
              "    </tr>\n",
              "  </thead>\n",
              "  <tbody>\n",
              "    <tr>\n",
              "      <th>0</th>\n",
              "      <td>1</td>\n",
              "      <td>1</td>\n",
              "      <td>1</td>\n",
              "      <td>18</td>\n",
              "      <td>679.0</td>\n",
              "      <td>279.0</td>\n",
              "      <td>354.0</td>\n",
              "      <td>633.0</td>\n",
              "      <td>311.0</td>\n",
              "    </tr>\n",
              "    <tr>\n",
              "      <th>1</th>\n",
              "      <td>1</td>\n",
              "      <td>2</td>\n",
              "      <td>2</td>\n",
              "      <td>18</td>\n",
              "      <td>634.0</td>\n",
              "      <td>84.0</td>\n",
              "      <td>284.0</td>\n",
              "      <td>368.0</td>\n",
              "      <td>491.0</td>\n",
              "    </tr>\n",
              "    <tr>\n",
              "      <th>2</th>\n",
              "      <td>1</td>\n",
              "      <td>3</td>\n",
              "      <td>1</td>\n",
              "      <td>18</td>\n",
              "      <td>662.0</td>\n",
              "      <td>202.0</td>\n",
              "      <td>283.0</td>\n",
              "      <td>485.0</td>\n",
              "      <td>158.0</td>\n",
              "    </tr>\n",
              "    <tr>\n",
              "      <th>3</th>\n",
              "      <td>1</td>\n",
              "      <td>4</td>\n",
              "      <td>4</td>\n",
              "      <td>18</td>\n",
              "      <td>583.0</td>\n",
              "      <td>190.0</td>\n",
              "      <td>173.0</td>\n",
              "      <td>363.0</td>\n",
              "      <td>696.0</td>\n",
              "    </tr>\n",
              "    <tr>\n",
              "      <th>4</th>\n",
              "      <td>1</td>\n",
              "      <td>5</td>\n",
              "      <td>1</td>\n",
              "      <td>18</td>\n",
              "      <td>524.0</td>\n",
              "      <td>140.0</td>\n",
              "      <td>185.0</td>\n",
              "      <td>325.0</td>\n",
              "      <td>281.0</td>\n",
              "    </tr>\n",
              "  </tbody>\n",
              "</table>\n",
              "</div>"
            ],
            "text/plain": [
              "   Overall  Team  Pos  Age     GP      G      A    PTS    PIM\n",
              "0        1     1    1   18  679.0  279.0  354.0  633.0  311.0\n",
              "1        1     2    2   18  634.0   84.0  284.0  368.0  491.0\n",
              "2        1     3    1   18  662.0  202.0  283.0  485.0  158.0\n",
              "3        1     4    4   18  583.0  190.0  173.0  363.0  696.0\n",
              "4        1     5    1   18  524.0  140.0  185.0  325.0  281.0"
            ]
          },
          "metadata": {
            "tags": []
          },
          "execution_count": 108
        }
      ]
    },
    {
      "cell_type": "code",
      "metadata": {
        "colab": {
          "base_uri": "https://localhost:8080/",
          "height": 305
        },
        "id": "7nHUrdCEkcHL",
        "outputId": "5c37debb-af0f-4a54-edd9-15b17e9ed08b"
      },
      "source": [
        "%matplotlib inline\n",
        "plt.xlabel('Round(drafted)', fontsize=20)\n",
        "plt.ylabel('PTS(scored)', fontsize=20)\n",
        "plt.scatter(N.Overall, N.PTS, color='red', marker='+')\n",
        "plt.plot(N.Overall,reg.predict(N[['Overall']]),color= 'blue')"
      ],
      "execution_count": 155,
      "outputs": [
        {
          "output_type": "execute_result",
          "data": {
            "text/plain": [
              "[<matplotlib.lines.Line2D at 0x7f1e5d445910>]"
            ]
          },
          "metadata": {
            "tags": []
          },
          "execution_count": 155
        },
        {
          "output_type": "display_data",
          "data": {
            "image/png": "[encoded data removed]",
            "text/plain": [
              "<Figure size 432x288 with 1 Axes>"
            ]
          },
          "metadata": {
            "tags": [],
            "image/png": {
              "width": 399,
              "height": 272
            },
            "needs_background": "light"
          }
        }
      ]
    },
    {
      "cell_type": "code",
      "metadata": {
        "colab": {
          "base_uri": "https://localhost:8080/"
        },
        "id": "YsK1nKuilkuE",
        "outputId": "afe1fc41-49f5-4506-fa69-73406ca59a90"
      },
      "source": [
        "reg = linear_model.LinearRegression()\n",
        "reg.fit(N[['PTS']], N.Overall)"
      ],
      "execution_count": 171,
      "outputs": [
        {
          "output_type": "execute_result",
          "data": {
            "text/plain": [
              "LinearRegression(copy_X=True, fit_intercept=True, n_jobs=None, normalize=False)"
            ]
          },
          "metadata": {
            "tags": []
          },
          "execution_count": 171
        }
      ]
    },
    {
      "cell_type": "code",
      "metadata": {
        "colab": {
          "base_uri": "https://localhost:8080/"
        },
        "id": "Sp14RH5qklLj",
        "outputId": "adaddaac-9435-47d0-8abb-24159a640677"
      },
      "source": [
        "reg.predict(np.array([150]).reshape(1, 1))"
      ],
      "execution_count": 172,
      "outputs": [
        {
          "output_type": "execute_result",
          "data": {
            "text/plain": [
              "array([3.10166662])"
            ]
          },
          "metadata": {
            "tags": []
          },
          "execution_count": 172
        }
      ]
    },
    {
      "cell_type": "code",
      "metadata": {
        "id": "36qnhZTfwyko"
      },
      "source": [
        "#not a bad prediction here"
      ],
      "execution_count": null,
      "outputs": []
    },
    {
      "cell_type": "code",
      "metadata": {
        "colab": {
          "base_uri": "https://localhost:8080/"
        },
        "id": "JP5KgVcSnuG6",
        "outputId": "f4adcda6-ab39-4f28-f7a3-efd247b743d0"
      },
      "source": [
        "reg.coef_"
      ],
      "execution_count": 173,
      "outputs": [
        {
          "output_type": "execute_result",
          "data": {
            "text/plain": [
              "array([-0.00881352])"
            ]
          },
          "metadata": {
            "tags": []
          },
          "execution_count": 173
        }
      ]
    },
    {
      "cell_type": "code",
      "metadata": {
        "colab": {
          "base_uri": "https://localhost:8080/"
        },
        "id": "Aw3rUMhenwxS",
        "outputId": "d3c4cb81-7f03-4fdf-ef15-b0285a6f210f"
      },
      "source": [
        "reg.intercept_"
      ],
      "execution_count": 174,
      "outputs": [
        {
          "output_type": "execute_result",
          "data": {
            "text/plain": [
              "4.4236947399517925"
            ]
          },
          "metadata": {
            "tags": []
          },
          "execution_count": 174
        }
      ]
    },
    {
      "cell_type": "code",
      "metadata": {
        "colab": {
          "base_uri": "https://localhost:8080/"
        },
        "id": "7MvnuAhBn1zl",
        "outputId": "88a893c9-43a9-4ebb-c5e6-d57ebae658d7"
      },
      "source": [
        "#y=mx+b\n",
        "-20.74116142*3.1+4.4236947399517925\n",
        "\n",
        "-0.00881352*150+4.4236947399517925"
      ],
      "execution_count": 175,
      "outputs": [
        {
          "output_type": "execute_result",
          "data": {
            "text/plain": [
              "3.1016667399517925"
            ]
          },
          "metadata": {
            "tags": []
          },
          "execution_count": 175
        }
      ]
    },
    {
      "cell_type": "code",
      "metadata": {
        "id": "o_2h5-iluXc3"
      },
      "source": [
        "#prediction for round is roughly\n",
        "#Round =  (-0.00881352)<-Slope * (150)<-pts + (4.42369)<- y-intercept"
      ],
      "execution_count": null,
      "outputs": []
    },
    {
      "cell_type": "code",
      "metadata": {
        "colab": {
          "resources": {
            "http://localhost:8080/nbextensions/google.colab/files.js": {
              "data": "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",
              "ok": true,
              "headers": [
                [
                  "content-type",
                  "application/javascript"
                ]
              ],
              "status": 200,
              "status_text": ""
            }
          },
          "base_uri": "https://localhost:8080/",
          "height": 72
        },
        "id": "SQmxB7KEqTnv",
        "outputId": "9042ea08-c9ec-4535-f7cc-20dae71d92e6"
      },
      "source": [
        "from google.colab import files\n",
        "uploaded = files.upload()"
      ],
      "execution_count": 203,
      "outputs": [
        {
          "output_type": "display_data",
          "data": {
            "text/html": [
              "\n",
              "     <input type=\"file\" id=\"files-a4a1cea3-6369-4821-bdb4-1c3c45947b2e\" name=\"files[]\" multiple disabled\n",
              "        style=\"border:none\" />\n",
              "     <output id=\"result-a4a1cea3-6369-4821-bdb4-1c3c45947b2e\">\n",
              "      Upload widget is only available when the cell has been executed in the\n",
              "      current browser session. Please rerun this cell to enable.\n",
              "      </output>\n",
              "      <script src=\"/nbextensions/google.colab/files.js\"></script> "
            ],
            "text/plain": [
              "<IPython.core.display.HTML object>"
            ]
          },
          "metadata": {
            "tags": []
          }
        },
        {
          "output_type": "stream",
          "text": [
            "Saving PTS.csv to PTS (2).csv\n"
          ],
          "name": "stdout"
        }
      ]
    },
    {
      "cell_type": "code",
      "metadata": {
        "colab": {
          "base_uri": "https://localhost:8080/",
          "height": 137
        },
        "id": "g_Vnev7LoXjL",
        "outputId": "b5fd56a5-d4e8-4fda-9a01-2db715283d7a"
      },
      "source": [
        "Nx = pd.read_csv(\"PTS.csv\")\n",
        "Nx.head(3)"
      ],
      "execution_count": 204,
      "outputs": [
        {
          "output_type": "execute_result",
          "data": {
            "text/html": [
              "<div>\n",
              "<style scoped>\n",
              "    .dataframe tbody tr th:only-of-type {\n",
              "        vertical-align: middle;\n",
              "    }\n",
              "\n",
              "    .dataframe tbody tr th {\n",
              "        vertical-align: top;\n",
              "    }\n",
              "\n",
              "    .dataframe thead th {\n",
              "        text-align: right;\n",
              "    }\n",
              "</style>\n",
              "<table border=\"1\" class=\"dataframe\">\n",
              "  <thead>\n",
              "    <tr style=\"text-align: right;\">\n",
              "      <th></th>\n",
              "      <th>PTS</th>\n",
              "    </tr>\n",
              "  </thead>\n",
              "  <tbody>\n",
              "    <tr>\n",
              "      <th>0</th>\n",
              "      <td>633</td>\n",
              "    </tr>\n",
              "    <tr>\n",
              "      <th>1</th>\n",
              "      <td>368</td>\n",
              "    </tr>\n",
              "    <tr>\n",
              "      <th>2</th>\n",
              "      <td>485</td>\n",
              "    </tr>\n",
              "  </tbody>\n",
              "</table>\n",
              "</div>"
            ],
            "text/plain": [
              "   PTS\n",
              "0  633\n",
              "1  368\n",
              "2  485"
            ]
          },
          "metadata": {
            "tags": []
          },
          "execution_count": 204
        }
      ]
    },
    {
      "cell_type": "code",
      "metadata": {
        "id": "BoOkxbRfq1Xq"
      },
      "source": [
        "p = reg.predict(Nx)"
      ],
      "execution_count": 206,
      "outputs": []
    },
    {
      "cell_type": "code",
      "metadata": {
        "id": "U-YoRBOEq532"
      },
      "source": [
        "Nx['Overall'] = p"
      ],
      "execution_count": 210,
      "outputs": []
    },
    {
      "cell_type": "code",
      "metadata": {
        "id": "YcuIi-A3rGeW"
      },
      "source": [
        "Nx.to_csv(\"prediction.csv\", index=False)"
      ],
      "execution_count": 211,
      "outputs": []
    },
    {
      "cell_type": "code",
      "metadata": {
        "colab": {
          "base_uri": "https://localhost:8080/"
        },
        "id": "xFZRMS0rrXtW",
        "outputId": "e84f70fb-d7a6-48b2-c331-921ec05a9836"
      },
      "source": [
        "with pd.option_context('display.max_rows', None, 'display.max_columns', None): \n",
        "    print(Nx)"
      ],
      "execution_count": 213,
      "outputs": [
        {
          "output_type": "stream",
          "text": [
            "     PTS   Overall\n",
            "0    633 -1.155264\n",
            "1    368  1.180319\n",
            "2    485  0.149137\n",
            "3    363  1.224387\n",
            "4    325  1.559300\n",
            "5    295  1.823706\n",
            "6    318  1.620995\n",
            "7      0  4.423695\n",
            "8     46  4.018273\n",
            "9    105  3.498275\n",
            "10   179  2.846075\n",
            "11    82  3.700986\n",
            "12   117  3.392513\n",
            "13   155  3.057599\n",
            "14    85  3.674545\n",
            "15   258  2.149806\n",
            "16    25  4.203357\n",
            "17    10  4.335560\n",
            "18   226  2.431839\n",
            "19    64  3.859629\n",
            "20   100  3.542343\n",
            "21    42  4.053527\n",
            "22    14  4.300305\n",
            "23   306  1.726757\n",
            "24    28  4.176916\n",
            "25   254  2.185060\n",
            "26    22  4.229797\n",
            "27     3  4.397254\n",
            "28    43  4.044713\n",
            "29     0  4.423695\n",
            "30    12  4.317932\n",
            "31   433  0.607440\n",
            "32     1  4.414881\n",
            "33    95  3.586410\n",
            "34     3  4.397254\n",
            "35     1  4.414881\n",
            "36   127  3.304378\n",
            "37   216  2.519974\n",
            "38    35  4.115222\n",
            "39    26  4.194543\n",
            "40    22  4.229797\n",
            "41     3  4.397254\n",
            "42     0  4.423695\n",
            "43     0  4.423695\n",
            "44    24  4.212170\n",
            "45     0  4.423695\n",
            "46    55  3.938951\n",
            "47   127  3.304378\n",
            "48     1  4.414881\n",
            "49    55  3.938951\n",
            "50   125  3.322005\n",
            "51     0  4.423695\n",
            "52     0  4.423695\n",
            "53     0  4.423695\n",
            "54   101  3.533529\n",
            "55   236  2.343704\n",
            "56     0  4.423695\n",
            "57     2  4.406068\n",
            "58     3  4.397254\n",
            "59   253  2.193874\n",
            "60     0  4.423695\n",
            "61    65  3.850816\n",
            "62     0  4.423695\n",
            "63     0  4.423695\n",
            "64   252  2.202687\n",
            "65    23  4.220984\n",
            "66     0  4.423695\n",
            "67    17  4.273865\n",
            "68     4  4.388441\n",
            "69     0  4.423695\n",
            "70    48  4.000646\n",
            "71     0  4.423695\n",
            "72     0  4.423695\n",
            "73     0  4.423695\n",
            "74     0  4.423695\n",
            "75     0  4.423695\n",
            "76     0  4.423695\n",
            "77     0  4.423695\n",
            "78    70  3.806748\n",
            "79    44  4.035900\n",
            "80   185  2.793193\n",
            "81     0  4.423695\n",
            "82     0  4.423695\n",
            "83     0  4.423695\n",
            "84     0  4.423695\n",
            "85     0  4.423695\n",
            "86     0  4.423695\n",
            "87   129  3.286751\n",
            "88     0  4.423695\n",
            "89   128  3.295564\n",
            "90     0  4.423695\n",
            "91    44  4.035900\n",
            "92     7  4.362000\n",
            "93   266  2.079298\n",
            "94     0  4.423695\n",
            "95    40  4.071154\n",
            "96     0  4.423695\n",
            "97   127  3.304378\n",
            "98     0  4.423695\n",
            "99   141  3.180988\n",
            "100    0  4.423695\n",
            "101  158  3.031158\n",
            "102    0  4.423695\n",
            "103    0  4.423695\n",
            "104    0  4.423695\n",
            "105    0  4.423695\n",
            "106    0  4.423695\n",
            "107    4  4.388441\n",
            "108    0  4.423695\n",
            "109    4  4.388441\n",
            "110    3  4.397254\n",
            "111    0  4.423695\n",
            "112    0  4.423695\n",
            "113   16  4.282678\n",
            "114   47  4.009459\n",
            "115    0  4.423695\n",
            "116    0  4.423695\n",
            "117    0  4.423695\n",
            "118    0  4.423695\n",
            "119    0  4.423695\n",
            "120    0  4.423695\n",
            "121   19  4.256238\n",
            "122    0  4.423695\n",
            "123   17  4.273865\n",
            "124  236  2.343704\n",
            "125    0  4.423695\n",
            "126   90  3.630478\n",
            "127    0  4.423695\n",
            "128    0  4.423695\n",
            "129    8  4.353187\n",
            "130    0  4.423695\n",
            "131    0  4.423695\n",
            "132    1  4.414881\n",
            "133    9  4.344373\n",
            "134    0  4.423695\n",
            "135    0  4.423695\n",
            "136    0  4.423695\n",
            "137    0  4.423695\n",
            "138    0  4.423695\n",
            "139    0  4.423695\n",
            "140    0  4.423695\n",
            "141   10  4.335560\n",
            "142    0  4.423695\n",
            "143  113  3.427767\n",
            "144   31  4.150476\n",
            "145    0  4.423695\n",
            "146  212  2.555228\n",
            "147    0  4.423695\n",
            "148    0  4.423695\n",
            "149    0  4.423695\n",
            "150    0  4.423695\n",
            "151    0  4.423695\n",
            "152    3  4.397254\n",
            "153   23  4.220984\n",
            "154    0  4.423695\n",
            "155    2  4.406068\n",
            "156    0  4.423695\n",
            "157    0  4.423695\n",
            "158    1  4.414881\n",
            "159    1  4.414881\n",
            "160    0  4.423695\n",
            "161    0  4.423695\n",
            "162    0  4.423695\n",
            "163    0  4.423695\n",
            "164    0  4.423695\n",
            "165    2  4.406068\n",
            "166   10  4.335560\n",
            "167    0  4.423695\n",
            "168    0  4.423695\n",
            "169    0  4.423695\n",
            "170    6  4.370814\n",
            "171    0  4.423695\n",
            "172    0  4.423695\n",
            "173    4  4.388441\n",
            "174    0  4.423695\n",
            "175    0  4.423695\n",
            "176  146  3.136921\n",
            "177    0  4.423695\n",
            "178    0  4.423695\n",
            "179    0  4.423695\n",
            "180   50  3.983019\n",
            "181    0  4.423695\n",
            "182    0  4.423695\n",
            "183    0  4.423695\n",
            "184    0  4.423695\n",
            "185    0  4.423695\n",
            "186    0  4.423695\n",
            "187    0  4.423695\n",
            "188    0  4.423695\n",
            "189    0  4.423695\n",
            "190    3  4.397254\n",
            "191    0  4.423695\n",
            "192   28  4.176916\n",
            "193    0  4.423695\n",
            "194    0  4.423695\n",
            "195    0  4.423695\n",
            "196    0  4.423695\n",
            "197    0  4.423695\n",
            "198    0  4.423695\n",
            "199    0  4.423695\n",
            "200    0  4.423695\n",
            "201    0  4.423695\n",
            "202    0  4.423695\n",
            "203    0  4.423695\n",
            "204    1  4.414881\n",
            "205    0  4.423695\n"
          ],
          "name": "stdout"
        }
      ]
    },
    {
      "cell_type": "code",
      "metadata": {
        "colab": {
          "base_uri": "https://localhost:8080/"
        },
        "id": "a5K4rUYx21UI",
        "outputId": "54d5feb0-82c8-45a2-eab8-728aff090cb8"
      },
      "source": [
        "from joblib import dump, load \n",
        "dump(Nx, 'svc_model.pkl')"
      ],
      "execution_count": 214,
      "outputs": [
        {
          "output_type": "execute_result",
          "data": {
            "text/plain": [
              "['svc_model.pkl']"
            ]
          },
          "metadata": {
            "tags": []
          },
          "execution_count": 214
        }
      ]
    }
  ]
}